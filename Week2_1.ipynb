{
  "nbformat": 4,
  "nbformat_minor": 0,
  "metadata": {
    "colab": {
      "provenance": [],
      "authorship_tag": "ABX9TyMy12dQiSJmKhwbU2lT4rzC",
      "include_colab_link": true
    },
    "kernelspec": {
      "name": "python3",
      "display_name": "Python 3"
    },
    "language_info": {
      "name": "python"
    }
  },
  "cells": [
    {
      "cell_type": "markdown",
      "metadata": {
        "id": "view-in-github",
        "colab_type": "text"
      },
      "source": [
        "<a href=\"https://colab.research.google.com/github/Praaabin/cps5004/blob/main/Week2_1.ipynb\" target=\"_parent\"><img src=\"https://colab.research.google.com/assets/colab-badge.svg\" alt=\"Open In Colab\"/></a>"
      ]
    },
    {
      "cell_type": "markdown",
      "source": [
        "Lecture 2"
      ],
      "metadata": {
        "id": "J9UVeOpcZX2x"
      }
    },
    {
      "cell_type": "markdown",
      "source": [
        "Example#1\n"
      ],
      "metadata": {
        "id": "5mSrxM9zZF9d"
      }
    },
    {
      "cell_type": "code",
      "execution_count": 2,
      "metadata": {
        "colab": {
          "base_uri": "https://localhost:8080/"
        },
        "id": "44nR792tYK8u",
        "outputId": "16277089-d17e-4c6f-ce36-ba960e6e0a8f"
      },
      "outputs": [
        {
          "output_type": "stream",
          "name": "stdout",
          "text": [
            "Hello world!\n"
          ]
        }
      ],
      "source": [
        "print(\"Hello world!\")"
      ]
    },
    {
      "cell_type": "markdown",
      "source": [
        "Example #2\n"
      ],
      "metadata": {
        "id": "h5BjYdayb97Z"
      }
    },
    {
      "cell_type": "code",
      "source": [
        "import pandas as pd\n",
        "\n",
        "# Sample data\n",
        "data = {\n",
        "    'Employee_name': ['Richard Nicholson', 'Belinda Carlisle', 'Romeo Fara', 'Francisco Chavez'],\n",
        "    'Monthly_Net_salary': ['3256.23', 1562, 1400.58, '5689'],\n",
        "    'Age': ['45', 29, '23', 'unknown']\n",
        "}\n",
        "\n",
        "df = pd.DataFrame(data)\n",
        "print('\\nDataFrame before fixing mixed data types:\\n', df)\n",
        "\n",
        "# Function to detect mixed data types\n",
        "def detect_mixed_data_values(df):\n",
        "    mixed_columns = {}\n",
        "    for column in df.columns:\n",
        "        inferred_type = pd.api.types.infer_dtype(df[column])\n",
        "        if inferred_type == 'mixed-integer':\n",
        "            mixed_columns[column] = inferred_type\n",
        "    return mixed_columns\n",
        "\n",
        "mixed_columns = detect_mixed_data_values(df)\n",
        "print(\"\\nColumns with mixed data types:\", mixed_columns)\n",
        "\n",
        "# Function to fix mixed data types\n",
        "def fix_mixed_data_values(df):\n",
        "    for column in df.columns:\n",
        "        # Try converting to numeric, coerce errors will turn non-convertible values to NaN\n",
        "        df[column] = pd.to_numeric(df[column], errors='coerce')\n",
        "\n",
        "        # If there are NaN values, you might want to decide how to handle them (e.g., fill with a default value)\n",
        "        if df[column].isnull().any():\n",
        "            print(f\"Column '{column}' contains non-numeric values. Filling NaNs with 0.\")\n",
        "            df[column].fillna(0, inplace=True)\n",
        "\n",
        "    return df\n",
        "\n",
        "# Fixing mixed data values in the DataFrame\n",
        "df_fixed = fix_mixed_data_values(df)\n",
        "print(\"\\nDataFrame after fixing mixed data types:\\n\", df_fixed)\n",
        "\n"
      ],
      "metadata": {
        "colab": {
          "base_uri": "https://localhost:8080/"
        },
        "id": "kZntV3YxcCcT",
        "outputId": "434fd133-19da-40b9-fdb4-fb9041daa70a"
      },
      "execution_count": 8,
      "outputs": [
        {
          "output_type": "stream",
          "name": "stdout",
          "text": [
            "\n",
            "DataFrame before fixing mixed data types:\n",
            "        Employee_name Monthly_Net_salary      Age\n",
            "0  Richard Nicholson            3256.23       45\n",
            "1   Belinda Carlisle               1562       29\n",
            "2         Romeo Fara            1400.58       23\n",
            "3   Francisco Chavez               5689  unknown\n",
            "\n",
            "Columns with mixed data types: {'Monthly_Net_salary': 'mixed-integer', 'Age': 'mixed-integer'}\n",
            "Column 'Employee_name' contains non-numeric values. Filling NaNs with 0.\n",
            "Column 'Age' contains non-numeric values. Filling NaNs with 0.\n",
            "\n",
            "DataFrame after fixing mixed data types:\n",
            "    Employee_name  Monthly_Net_salary   Age\n",
            "0            0.0             3256.23  45.0\n",
            "1            0.0             1562.00  29.0\n",
            "2            0.0             1400.58  23.0\n",
            "3            0.0             5689.00   0.0\n"
          ]
        }
      ]
    }
  ]
}